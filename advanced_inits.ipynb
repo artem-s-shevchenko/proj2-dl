{
 "cells": [
  {
   "cell_type": "code",
   "execution_count": 1,
   "metadata": {},
   "outputs": [],
   "source": [
    "from torch import FloatTensor\n",
    "import math"
   ]
  },
  {
   "cell_type": "code",
   "execution_count": 2,
   "metadata": {},
   "outputs": [],
   "source": [
    "def scaled_init(w, b, init_type, gain=1):\n",
    "    std = 1. / math.sqrt(w.size(1))\n",
    "    #print(std)\n",
    "    if init_type == \"normal\":\n",
    "        w.normal_(0, gain*std)\n",
    "        b.normal_(0, gain*std)\n",
    "    elif init_type == \"uniform\":\n",
    "        temp = math.sqrt(3.0)*std*gain\n",
    "        w.uniform_(-temp, temp)\n",
    "        b.uniform_(-temp, temp)"
   ]
  },
  {
   "cell_type": "code",
   "execution_count": 3,
   "metadata": {},
   "outputs": [],
   "source": [
    "def xavier_init(w, b, init_type, gain=1):\n",
    "    fan_in = w.size(1)\n",
    "    fan_out = w.size(0)\n",
    "    std = math.sqrt(2.0 / (fan_in + fan_out))\n",
    "    #print(std)\n",
    "    if init_type == \"normal\":\n",
    "        w.normal_(0, gain*std)\n",
    "        b.normal_(0, gain*std)\n",
    "    elif init_type == \"uniform\":\n",
    "        temp = math.sqrt(3.0)*std*gain\n",
    "        w.uniform_(-temp, temp)\n",
    "        b.uniform_(-temp, temp)"
   ]
  },
  {
   "cell_type": "code",
   "execution_count": 4,
   "metadata": {},
   "outputs": [],
   "source": [
    "def calculate_gain(type):\n",
    "    if type == 'tanh':\n",
    "        return 5.0 / 3\n",
    "    elif type == 'relu':\n",
    "        return math.sqrt(2.0)"
   ]
  },
  {
   "cell_type": "code",
   "execution_count": 5,
   "metadata": {},
   "outputs": [],
   "source": [
    "a = FloatTensor(50,80)\n",
    "bias = FloatTensor(1,50)"
   ]
  },
  {
   "cell_type": "code",
   "execution_count": 6,
   "metadata": {},
   "outputs": [],
   "source": [
    "scaled_init(a, bias, \"normal\")"
   ]
  },
  {
   "cell_type": "code",
   "execution_count": 7,
   "metadata": {},
   "outputs": [
    {
     "name": "stdout",
     "output_type": "stream",
     "text": [
      "0.11180339887498948\n",
      "0.12403473458920845\n",
      "0.111788270747808\n"
     ]
    }
   ],
   "source": [
    "print(1. / math.sqrt(a.size(1)))\n",
    "print(math.sqrt(2.0 / (a.size(0) + a.size(1))))\n",
    "print(a.std())"
   ]
  },
  {
   "cell_type": "code",
   "execution_count": null,
   "metadata": {},
   "outputs": [],
   "source": []
  },
  {
   "cell_type": "code",
   "execution_count": null,
   "metadata": {},
   "outputs": [],
   "source": []
  }
 ],
 "metadata": {
  "kernelspec": {
   "display_name": "Python 3",
   "language": "python",
   "name": "python3"
  },
  "language_info": {
   "codemirror_mode": {
    "name": "ipython",
    "version": 3
   },
   "file_extension": ".py",
   "mimetype": "text/x-python",
   "name": "python",
   "nbconvert_exporter": "python",
   "pygments_lexer": "ipython3",
   "version": "3.6.2"
  }
 },
 "nbformat": 4,
 "nbformat_minor": 2
}
