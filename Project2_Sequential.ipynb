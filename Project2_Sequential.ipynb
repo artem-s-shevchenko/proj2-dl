{
 "cells": [
  {
   "cell_type": "code",
   "execution_count": 3,
   "metadata": {},
   "outputs": [],
   "source": [
    "from torch import FloatTensor\n",
    "from torch import LongTensor \n",
    "\n",
    "from Linear import *\n",
    "from ReLU import *\n",
    "from Tanh import *"
   ]
  },
  {
   "cell_type": "code",
   "execution_count": 31,
   "metadata": {},
   "outputs": [],
   "source": [
    "class Sequential (Module):\n",
    "    def __init__(self, *modules):\n",
    "        super(Sequential, self).__init__()\n",
    "        self.modules = modules\n",
    "    def forward(self, x_in):\n",
    "        for module in self.modules:\n",
    "            x_in = module.forward(x_in)\n",
    "        x_out = x_in\n",
    "        return x_out\n",
    "    def backward(self, dl_dx_out): \n",
    "        for module in reversed(self.modules):\n",
    "            dl_dx_out = module.backward(dl_dx_out)\n",
    "        return dl_dx_out\n",
    "    def param(self): \n",
    "        parameters = []\n",
    "        for module in self.modules:\n",
    "            parameters.append(module.param())\n",
    "        return parameters"
   ]
  },
  {
   "cell_type": "code",
   "execution_count": 46,
   "metadata": {},
   "outputs": [],
   "source": [
    "# model = Sequential(Linear(3, 5), ReLU(), Linear(1, 3), Tanh())\n",
    "# x_out = model.forward(FloatTensor(10, 5).normal_())\n",
    "# model.backward(FloatTensor(10, 1).normal_())"
   ]
  },
  {
   "cell_type": "code",
   "execution_count": 40,
   "metadata": {},
   "outputs": [],
   "source": [
    "from torch import nn\n",
    "from torch.autograd import Variable"
   ]
  },
  {
   "cell_type": "code",
   "execution_count": 41,
   "metadata": {},
   "outputs": [],
   "source": [
    "in_features = 3\n",
    "out_features = 5\n",
    "\n",
    "input_tensor = FloatTensor(10, 3).normal_()\n",
    "#output_tensor = FloatTensor(10, 5).normal_()\n",
    "input_var = Variable(input_tensor, requires_grad=True)"
   ]
  },
  {
   "cell_type": "code",
   "execution_count": 42,
   "metadata": {},
   "outputs": [],
   "source": [
    "module = nn.Sequential(nn.ReLU(), nn.Tanh())\n",
    "model = Sequential(ReLU(), Tanh())"
   ]
  },
  {
   "cell_type": "code",
   "execution_count": 43,
   "metadata": {},
   "outputs": [
    {
     "name": "stdout",
     "output_type": "stream",
     "text": [
      "\n",
      " 0.0000  0.4501  0.5718\n",
      " 0.0000  0.0000  0.9568\n",
      " 0.5605  0.0000  0.0000\n",
      " 0.0000  0.4449  0.0000\n",
      " 0.0000  0.8729  0.0000\n",
      " 0.0000  0.9316  0.1238\n",
      " 0.8699  0.8814  0.0000\n",
      " 0.0000  0.9143  0.0000\n",
      " 0.2451  0.5965  0.5740\n",
      " 0.0000  0.0628  0.0000\n",
      "[torch.FloatTensor of size 10x3]\n",
      "\n",
      "Variable containing:\n",
      " 0.0000  0.4501  0.5718\n",
      " 0.0000  0.0000  0.9568\n",
      " 0.5605  0.0000  0.0000\n",
      " 0.0000  0.4449  0.0000\n",
      " 0.0000  0.8729  0.0000\n",
      " 0.0000  0.9316  0.1238\n",
      " 0.8699  0.8814  0.0000\n",
      " 0.0000  0.9143  0.0000\n",
      " 0.2451  0.5965  0.5740\n",
      " 0.0000  0.0628  0.0000\n",
      "[torch.FloatTensor of size 10x3]\n",
      "\n"
     ]
    }
   ],
   "source": [
    "output_tensor = model.forward(input_tensor)\n",
    "print(output_tensor)\n",
    "forw = module(input_var)\n",
    "print(forw)"
   ]
  },
  {
   "cell_type": "code",
   "execution_count": 44,
   "metadata": {},
   "outputs": [
    {
     "name": "stdout",
     "output_type": "stream",
     "text": [
      "\n",
      " 0.0000  0.3589  0.3848\n",
      " 0.0000  0.0000  0.0808\n",
      " 0.3844  0.0000  0.0000\n",
      " 0.0000  0.3568  0.0000\n",
      " 0.0000  0.2078  0.0000\n",
      " 0.0000  0.1230  0.1219\n",
      " 0.2116  0.1967  0.0000\n",
      " 0.0000  0.1500  0.0000\n",
      " 0.2304  0.3843  0.3849\n",
      " 0.0000  0.0625  0.0000\n",
      "[torch.FloatTensor of size 10x3]\n",
      "\n"
     ]
    },
    {
     "data": {
      "text/plain": [
       "\n",
       " 0.0000  0.3589  0.3848\n",
       " 0.0000  0.0000  0.0808\n",
       " 0.3844  0.0000  0.0000\n",
       " 0.0000  0.3568  0.0000\n",
       " 0.0000  0.2078  0.0000\n",
       " 0.0000  0.1230  0.1219\n",
       " 0.2116  0.1967  0.0000\n",
       " 0.0000  0.1500  0.0000\n",
       " 0.2304  0.3843  0.3849\n",
       " 0.0000  0.0625  0.0000\n",
       "[torch.FloatTensor of size 10x3]"
      ]
     },
     "execution_count": 44,
     "metadata": {},
     "output_type": "execute_result"
    }
   ],
   "source": [
    "print(model.backward(output_tensor))\n",
    "forw.backward(output_tensor)\n",
    "input_var.grad.data"
   ]
  },
  {
   "cell_type": "code",
   "execution_count": 45,
   "metadata": {},
   "outputs": [],
   "source": [
    "### Todo..test linear and sequential with theirs"
   ]
  },
  {
   "cell_type": "code",
   "execution_count": null,
   "metadata": {},
   "outputs": [],
   "source": []
  }
 ],
 "metadata": {
  "kernelspec": {
   "display_name": "Python 3",
   "language": "python",
   "name": "python3"
  },
  "language_info": {
   "codemirror_mode": {
    "name": "ipython",
    "version": 3
   },
   "file_extension": ".py",
   "mimetype": "text/x-python",
   "name": "python",
   "nbconvert_exporter": "python",
   "pygments_lexer": "ipython3",
   "version": "3.6.2"
  }
 },
 "nbformat": 4,
 "nbformat_minor": 2
}
