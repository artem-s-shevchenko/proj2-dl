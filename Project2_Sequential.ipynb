{
 "cells": [
  {
   "cell_type": "code",
   "execution_count": 1,
   "metadata": {},
   "outputs": [],
   "source": [
    "from torch import FloatTensor\n",
    "from torch import LongTensor \n",
    "\n",
    "from Linear import *\n",
    "from ReLU import *\n",
    "from Tanh import *"
   ]
  },
  {
   "cell_type": "code",
   "execution_count": 2,
   "metadata": {},
   "outputs": [],
   "source": [
    "class Sequential (Module):\n",
    "    def __init__(self, *modules):\n",
    "        super(Sequential, self).__init__()\n",
    "        self.modules = modules\n",
    "    def forward(self, x_in):\n",
    "        for module in self.modules:\n",
    "            x_in = module.forward(x_in)\n",
    "        x_out = x_in\n",
    "        return x_out\n",
    "    def backward(self, dl_dx_out): \n",
    "        for module in reversed(self.modules):\n",
    "            dl_dx_out = module.backward(dl_dx_out)\n",
    "        return dl_dx_out\n",
    "    def param(self): \n",
    "        parameters = []\n",
    "        for module in self.modules:\n",
    "            parameters.append(module.param())\n",
    "        return parameters"
   ]
  },
  {
   "cell_type": "code",
   "execution_count": 23,
   "metadata": {},
   "outputs": [],
   "source": [
    "model = Sequential(Linear(3, 5), ReLU(), Linear(1, 3), Tanh())\n",
    "x_out = model.forward(FloatTensor(10, 5).normal_())\n",
    "dl_x_out = model.backward(FloatTensor(10, 1).normal_())"
   ]
  },
  {
   "cell_type": "code",
   "execution_count": null,
   "metadata": {},
   "outputs": [],
   "source": []
  },
  {
   "cell_type": "code",
   "execution_count": null,
   "metadata": {},
   "outputs": [],
   "source": []
  }
 ],
 "metadata": {
  "kernelspec": {
   "display_name": "Python 3",
   "language": "python",
   "name": "python3"
  },
  "language_info": {
   "codemirror_mode": {
    "name": "ipython",
    "version": 3
   },
   "file_extension": ".py",
   "mimetype": "text/x-python",
   "name": "python",
   "nbconvert_exporter": "python",
   "pygments_lexer": "ipython3",
   "version": "3.6.2"
  }
 },
 "nbformat": 4,
 "nbformat_minor": 2
}
