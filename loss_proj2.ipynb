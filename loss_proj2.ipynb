{
 "cells": [
  {
   "cell_type": "code",
   "execution_count": 1,
   "metadata": {},
   "outputs": [],
   "source": [
    "from torch import FloatTensor\n",
    "from torch import LongTensor"
   ]
  },
  {
   "cell_type": "code",
   "execution_count": 2,
   "metadata": {},
   "outputs": [],
   "source": [
    "class Module(object):\n",
    "    def forward(self, *input): \n",
    "        raise NotImplementedError\n",
    "    def backward(self, *gradwrtoutput): \n",
    "        raise NotImplementedError\n",
    "    def param(self): \n",
    "        return []"
   ]
  },
  {
   "cell_type": "code",
   "execution_count": 3,
   "metadata": {},
   "outputs": [],
   "source": [
    "class LossMSE(Module):\n",
    "    def forward(self, x_in, target): \n",
    "        self.last_input = x_in\n",
    "        self.last_target = target\n",
    "        return (x_in - target).pow(2).mean()\n",
    "    def backward(self):\n",
    "        return 2*(self.last_input-self.last_target)/(self.last_target.size()[0]*self.last_target.size()[1])"
   ]
  },
  {
   "cell_type": "code",
   "execution_count": 4,
   "metadata": {},
   "outputs": [],
   "source": [
    "from torch.autograd import Variable\n",
    "a = FloatTensor(5, 7).normal_()\n",
    "b = FloatTensor(5, 7).normal_()\n",
    "a_var = Variable(a, requires_grad=True)\n",
    "b_var = Variable(b)"
   ]
  },
  {
   "cell_type": "code",
   "execution_count": 5,
   "metadata": {},
   "outputs": [],
   "source": [
    "from torch import nn\n",
    "test1 = nn.MSELoss()\n",
    "test2 = LossMSE()"
   ]
  },
  {
   "cell_type": "code",
   "execution_count": 6,
   "metadata": {},
   "outputs": [
    {
     "name": "stdout",
     "output_type": "stream",
     "text": [
      "2.1215782165527344\n",
      "2.1215783804073\n"
     ]
    }
   ],
   "source": [
    "res = test1(a_var, b_var)\n",
    "res2 = test2.forward(a,b)\n",
    "print(res.data[0])\n",
    "print(res2)"
   ]
  },
  {
   "cell_type": "code",
   "execution_count": 7,
   "metadata": {},
   "outputs": [
    {
     "data": {
      "text/plain": [
       "\n",
       " 0.0499  0.0241 -0.0538  0.1017 -0.1263 -0.0903 -0.0838\n",
       "-0.0846 -0.1031 -0.0834  0.0201 -0.1371 -0.0542 -0.1095\n",
       " 0.0106 -0.0313 -0.0174  0.0292  0.0469 -0.1038  0.0896\n",
       " 0.0369 -0.0781  0.0551  0.0825 -0.1146  0.1237  0.1723\n",
       " 0.0246 -0.1100 -0.0163 -0.0143 -0.0018 -0.1544  0.0227\n",
       "[torch.FloatTensor of size 5x7]"
      ]
     },
     "execution_count": 7,
     "metadata": {},
     "output_type": "execute_result"
    }
   ],
   "source": [
    "res.backward()\n",
    "a_var.grad.data"
   ]
  },
  {
   "cell_type": "code",
   "execution_count": 8,
   "metadata": {},
   "outputs": [
    {
     "data": {
      "text/plain": [
       "\n",
       " 0.0499  0.0241 -0.0538  0.1017 -0.1263 -0.0903 -0.0838\n",
       "-0.0846 -0.1031 -0.0834  0.0201 -0.1371 -0.0542 -0.1095\n",
       " 0.0106 -0.0313 -0.0174  0.0292  0.0469 -0.1038  0.0896\n",
       " 0.0369 -0.0781  0.0551  0.0825 -0.1146  0.1237  0.1723\n",
       " 0.0246 -0.1100 -0.0163 -0.0143 -0.0018 -0.1544  0.0227\n",
       "[torch.FloatTensor of size 5x7]"
      ]
     },
     "execution_count": 8,
     "metadata": {},
     "output_type": "execute_result"
    }
   ],
   "source": [
    "test2.backward()"
   ]
  },
  {
   "cell_type": "code",
   "execution_count": null,
   "metadata": {},
   "outputs": [],
   "source": []
  }
 ],
 "metadata": {
  "kernelspec": {
   "display_name": "Python 3",
   "language": "python",
   "name": "python3"
  },
  "language_info": {
   "codemirror_mode": {
    "name": "ipython",
    "version": 3
   },
   "file_extension": ".py",
   "mimetype": "text/x-python",
   "name": "python",
   "nbconvert_exporter": "python",
   "pygments_lexer": "ipython3",
   "version": "3.6.2"
  }
 },
 "nbformat": 4,
 "nbformat_minor": 2
}
