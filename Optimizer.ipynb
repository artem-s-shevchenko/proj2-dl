{
 "cells": [
  {
   "cell_type": "code",
   "execution_count": 1,
   "metadata": {},
   "outputs": [],
   "source": [
    "from torch import FloatTensor\n",
    "from torch import LongTensor \n",
    "\n",
    "class Optimization(object):\n",
    "    def step(self):\n",
    "        raise NonImplementedError"
   ]
  },
  {
   "cell_type": "code",
   "execution_count": 15,
   "metadata": {},
   "outputs": [],
   "source": [
    "class SGD(Optimization):\n",
    "    def __init__(self, model, lr, momentum=0):\n",
    "        super(SGD, self).__init__()\n",
    "        self.model = model\n",
    "        self.lr = lr\n",
    "        self.momentum = momentum\n",
    "        self.momentum_buffer = {}\n",
    "    def step(self):\n",
    "        for p in self.model.param():\n",
    "            if p not in self.momentum_buffer.keys():\n",
    "                self.momentum_buffer[p] = FloatTensor(p[0].size()).zero_()\n",
    "            self.momentum_buffer[p] = self.momentum_buffer[p].mul_(self.momentum).add_(self.lr*p[1])\n",
    "            p[0].sub_(self.momentum_buffer[p])"
   ]
  },
  {
   "cell_type": "code",
   "execution_count": null,
   "metadata": {},
   "outputs": [],
   "source": [
    "def train_model(model, train_input, train_target):\n",
    "    criterion = LossMSE()\n",
    "    nb_epochs = 250\n",
    "    lr = 1e-1\n",
    "    optim = SGD(model, lr)\n",
    "    for e in range(0, nb_epochs):\n",
    "        for b in range(0, train_input.size(0), mini_batch_size):\n",
    "            output = model.forward(train_input.narrow(0, b, mini_batch_size))\n",
    "            loss = criterion.forward(output, train_target.narrow(0, b, mini_batch_size))\n",
    "            dl_din = criterion.backward()\n",
    "            model.backward(dl_din)\n",
    "            optim.step()\n",
    "train_model(model, train_input, train_target)"
   ]
  },
  {
   "cell_type": "code",
   "execution_count": null,
   "metadata": {},
   "outputs": [],
   "source": []
  }
 ],
 "metadata": {
  "kernelspec": {
   "display_name": "Python 3",
   "language": "python",
   "name": "python3"
  },
  "language_info": {
   "codemirror_mode": {
    "name": "ipython",
    "version": 3
   },
   "file_extension": ".py",
   "mimetype": "text/x-python",
   "name": "python",
   "nbconvert_exporter": "python",
   "pygments_lexer": "ipython3",
   "version": "3.6.2"
  }
 },
 "nbformat": 4,
 "nbformat_minor": 2
}
