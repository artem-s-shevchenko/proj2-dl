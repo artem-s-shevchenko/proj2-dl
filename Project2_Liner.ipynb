{
 "cells": [
  {
   "cell_type": "code",
   "execution_count": 9,
   "metadata": {},
   "outputs": [],
   "source": [
    "from torch import FloatTensor\n",
    "from torch import LongTensor "
   ]
  },
  {
   "cell_type": "code",
   "execution_count": 10,
   "metadata": {},
   "outputs": [],
   "source": [
    "class Module(object):\n",
    "    def forward(self, *input): \n",
    "        raise NotImplementedError\n",
    "    def backward(self, *gradwrtoutput): \n",
    "        raise NotImplementedError\n",
    "    def param(self): \n",
    "        return []"
   ]
  },
  {
   "cell_type": "code",
   "execution_count": 11,
   "metadata": {},
   "outputs": [],
   "source": [
    "epsilon = 1e-6"
   ]
  },
  {
   "cell_type": "code",
   "execution_count": 21,
   "metadata": {},
   "outputs": [],
   "source": [
    "class Linear (Module):\n",
    "    def __init__(self, in_features, out_features):\n",
    "        super(Module, self).__init__()\n",
    "        self.in_features = in_features\n",
    "        self.out_features = out_features\n",
    "        self.w = FloatTensor(in_features, out_features).normal_(0, epsilon)\n",
    "        self.b = FloatTensor(in_features, 1).normal_(0, epsilon) #TODO maybe put some specific parameters for init, \n",
    "                                                            #try xavier\n",
    "        self.dl_dw = FloatTensor(self.w.size())\n",
    "        self.dl_db = FloatTensor(self.b.size())  \n",
    "    def forward(self, x_in):\n",
    "        x_out = x_in.mm(self.w.t())+self.b\n",
    "        self.x_in = x_in\n",
    "        return x_out\n",
    "    def zero_grad(self): \n",
    "        self.dl_dw.zero_()\n",
    "        self.dl_db.zero_()\n",
    "    def backward(self, dl_dx_out): \n",
    "        dl_dw = dl_dx_out.t().mm(self.x_in)\n",
    "        dl_db = dl_dx_out\n",
    "        dl_dx_in = dl_dx_out.mm(self.w)\n",
    "        self.dl_dw = dl_dw\n",
    "        self.dl_db= dl_db\n",
    "        return dl_dx_in\n",
    "    def param(self): \n",
    "        return [(self.w, self.dl_dw), (self.b, self.dl_db)]"
   ]
  },
  {
   "cell_type": "code",
   "execution_count": null,
   "metadata": {},
   "outputs": [],
   "source": []
  }
 ],
 "metadata": {
  "kernelspec": {
   "display_name": "Python 3",
   "language": "python",
   "name": "python3"
  },
  "language_info": {
   "codemirror_mode": {
    "name": "ipython",
    "version": 3
   },
   "file_extension": ".py",
   "mimetype": "text/x-python",
   "name": "python",
   "nbconvert_exporter": "python",
   "pygments_lexer": "ipython3",
   "version": "3.6.2"
  }
 },
 "nbformat": 4,
 "nbformat_minor": 2
}
