{
 "cells": [
  {
   "cell_type": "code",
   "execution_count": 24,
   "metadata": {},
   "outputs": [],
   "source": [
    "from torch import FloatTensor\n",
    "from torch import LongTensor \n",
    "from Linear import *"
   ]
  },
  {
   "cell_type": "code",
   "execution_count": 25,
   "metadata": {},
   "outputs": [],
   "source": [
    "class Module(object):\n",
    "    def forward(self, *input): \n",
    "        raise NotImplementedError\n",
    "    def backward(self, *gradwrtoutput): \n",
    "        raise NotImplementedError\n",
    "    def param(self): \n",
    "        return []"
   ]
  },
  {
   "cell_type": "code",
   "execution_count": 26,
   "metadata": {},
   "outputs": [],
   "source": [
    "epsilon = 1"
   ]
  },
  {
   "cell_type": "code",
   "execution_count": 27,
   "metadata": {},
   "outputs": [],
   "source": [
    "class Linear (Module):\n",
    "    def __init__(self, in_features, out_features, init_w, init_b):\n",
    "        super(Module, self).__init__()\n",
    "        self.in_features = in_features\n",
    "        self.out_features = out_features\n",
    "        self.w = init_w\n",
    "        self.b = init_b #TODO maybe put some specific parameters for init, \n",
    "                                                            #try xavier\n",
    "        self.dl_dw = FloatTensor(self.w.size())\n",
    "        self.dl_db = FloatTensor(self.b.size())  \n",
    "    def forward(self, x_in):\n",
    "        x_out = x_in.mm(self.w.t())+self.b\n",
    "        self.x_in = x_in\n",
    "        return x_out\n",
    "    def backward(self, dl_dx_out): \n",
    "        dl_dw = dl_dx_out.t().mm(self.x_in)\n",
    "        dl_db = dl_dx_out.sum(0).view(1,-1)\n",
    "        dl_dx_in = dl_dx_out.mm(self.w)\n",
    "        self.dl_dw = dl_dw\n",
    "        self.dl_db= dl_db\n",
    "        return dl_dx_in\n",
    "    def param(self): \n",
    "        return [(self.w, self.dl_dw), (self.b, self.dl_db)]"
   ]
  },
  {
   "cell_type": "code",
   "execution_count": 28,
   "metadata": {},
   "outputs": [],
   "source": [
    "in_features = 3\n",
    "out_features = 5\n",
    "\n",
    "input_tensor = FloatTensor(10, 3).normal_()\n",
    "output_tensor = FloatTensor(10, 5).normal_()\n",
    "\n",
    "init_w = FloatTensor(out_features, in_features).normal_() \n",
    "init_b = FloatTensor(1, out_features).normal_() \n",
    "init=[init_w, init_b]"
   ]
  },
  {
   "cell_type": "code",
   "execution_count": 29,
   "metadata": {},
   "outputs": [
    {
     "ename": "TypeError",
     "evalue": "__init__() takes 3 positional arguments but 5 were given",
     "output_type": "error",
     "traceback": [
      "\u001b[0;31m---------------------------------------------------------------------------\u001b[0m",
      "\u001b[0;31mTypeError\u001b[0m                                 Traceback (most recent call last)",
      "\u001b[0;32m<ipython-input-29-41495ce4cc8c>\u001b[0m in \u001b[0;36m<module>\u001b[0;34m()\u001b[0m\n\u001b[1;32m      1\u001b[0m \u001b[0;32mfrom\u001b[0m \u001b[0mtorch\u001b[0m \u001b[0;32mimport\u001b[0m \u001b[0mnn\u001b[0m\u001b[0;34m\u001b[0m\u001b[0m\n\u001b[1;32m      2\u001b[0m \u001b[0;32mfrom\u001b[0m \u001b[0mtorch\u001b[0m\u001b[0;34m.\u001b[0m\u001b[0mautograd\u001b[0m \u001b[0;32mimport\u001b[0m \u001b[0mVariable\u001b[0m\u001b[0;34m\u001b[0m\u001b[0m\n\u001b[0;32m----> 3\u001b[0;31m \u001b[0mmodel\u001b[0m \u001b[0;34m=\u001b[0m \u001b[0mLinear\u001b[0m\u001b[0;34m(\u001b[0m\u001b[0min_features\u001b[0m\u001b[0;34m,\u001b[0m \u001b[0mout_features\u001b[0m\u001b[0;34m,\u001b[0m \u001b[0minit_w\u001b[0m\u001b[0;34m,\u001b[0m \u001b[0minit_b\u001b[0m\u001b[0;34m)\u001b[0m\u001b[0;34m\u001b[0m\u001b[0m\n\u001b[0m\u001b[1;32m      4\u001b[0m \u001b[0mmodule\u001b[0m \u001b[0;34m=\u001b[0m \u001b[0mnn\u001b[0m\u001b[0;34m.\u001b[0m\u001b[0mLinear\u001b[0m\u001b[0;34m(\u001b[0m\u001b[0;36m3\u001b[0m\u001b[0;34m,\u001b[0m \u001b[0;36m5\u001b[0m\u001b[0;34m)\u001b[0m\u001b[0;34m\u001b[0m\u001b[0m\n\u001b[1;32m      5\u001b[0m \u001b[0;32mfor\u001b[0m \u001b[0mi\u001b[0m\u001b[0;34m,\u001b[0m \u001b[0mparam\u001b[0m \u001b[0;32min\u001b[0m \u001b[0menumerate\u001b[0m\u001b[0;34m(\u001b[0m\u001b[0mmodule\u001b[0m\u001b[0;34m.\u001b[0m\u001b[0mparameters\u001b[0m\u001b[0;34m(\u001b[0m\u001b[0;34m)\u001b[0m\u001b[0;34m)\u001b[0m\u001b[0;34m:\u001b[0m\u001b[0;34m\u001b[0m\u001b[0m\n",
      "\u001b[0;31mTypeError\u001b[0m: __init__() takes 3 positional arguments but 5 were given"
     ]
    }
   ],
   "source": [
    "from torch import nn\n",
    "from torch.autograd import Variable\n",
    "model = Linear(in_features, out_features, init_w, init_b)\n",
    "module = nn.Linear(3, 5)\n",
    "for i, param in enumerate(module.parameters()):\n",
    "    param.data=init[i]\n",
    "for i, param in enumerate(module.parameters()):\n",
    "    print(param)\n",
    "for param in model.param():\n",
    "    print(param[0])"
   ]
  },
  {
   "cell_type": "code",
   "execution_count": 22,
   "metadata": {},
   "outputs": [
    {
     "data": {
      "text/plain": [
       "\n",
       " 0.2590 -3.6839  2.4300\n",
       " 1.3976 -2.5119 -0.1596\n",
       "-0.0211 -2.2905  0.9514\n",
       " 1.2572 -5.6969  6.6645\n",
       "-0.1773  2.1140  0.5697\n",
       " 0.4727 -2.5847  2.2213\n",
       " 0.2784  1.3090 -2.2239\n",
       " 0.4803 -1.3219  0.7033\n",
       "-0.1751  2.4865 -0.3963\n",
       " 0.0721  1.8738 -3.9425\n",
       "[torch.FloatTensor of size 10x3]"
      ]
     },
     "execution_count": 22,
     "metadata": {},
     "output_type": "execute_result"
    }
   ],
   "source": [
    "model.forward(input_tensor)\n",
    "model.backward(output_tensor)"
   ]
  },
  {
   "cell_type": "code",
   "execution_count": 23,
   "metadata": {
    "scrolled": true
   },
   "outputs": [
    {
     "name": "stdout",
     "output_type": "stream",
     "text": [
      "\n",
      "-2.6776 -6.6596 -5.2650\n",
      " 0.9843 -1.1908  0.2481\n",
      " 2.5419 -0.2323 -4.3181\n",
      "-1.3027  0.7520 -1.8173\n",
      " 0.3432  0.8754  4.0333\n",
      "[torch.FloatTensor of size 5x3]\n",
      "\n",
      "\n",
      " 5.5675  3.4558 -2.8613 -0.6915  3.8911\n",
      "[torch.FloatTensor of size 1x5]\n",
      "\n",
      "\n",
      "-2.6776 -6.6596 -5.2650\n",
      " 0.9843 -1.1908  0.2481\n",
      " 2.5419 -0.2323 -4.3181\n",
      "-1.3027  0.7520 -1.8173\n",
      " 0.3432  0.8754  4.0333\n",
      "[torch.FloatTensor of size 5x3]\n",
      "\n",
      "\n",
      " 5.5675  3.4558 -2.8613 -0.6915  3.8911\n",
      "[torch.FloatTensor of size 1x5]\n",
      "\n"
     ]
    }
   ],
   "source": [
    "input_var = Variable(input_tensor, requires_grad=True)\n",
    "forw = module(input_var)\n",
    "forw.backward(output_tensor)\n",
    "#input_var.grad.data\n",
    "for i, param in enumerate(module.parameters()):\n",
    "    print(param.grad.data)\n",
    "for param in model.param():\n",
    "    print(param[1])"
   ]
  },
  {
   "cell_type": "code",
   "execution_count": null,
   "metadata": {},
   "outputs": [],
   "source": []
  }
 ],
 "metadata": {
  "kernelspec": {
   "display_name": "Python 3",
   "language": "python",
   "name": "python3"
  },
  "language_info": {
   "codemirror_mode": {
    "name": "ipython",
    "version": 3
   },
   "file_extension": ".py",
   "mimetype": "text/x-python",
   "name": "python",
   "nbconvert_exporter": "python",
   "pygments_lexer": "ipython3",
   "version": "3.6.2"
  }
 },
 "nbformat": 4,
 "nbformat_minor": 2
}
