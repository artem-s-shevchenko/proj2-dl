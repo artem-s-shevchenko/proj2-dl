{
 "cells": [
  {
   "cell_type": "code",
   "execution_count": 1,
   "metadata": {},
   "outputs": [],
   "source": [
    "from torch import FloatTensor\n",
    "from torch import LongTensor "
   ]
  },
  {
   "cell_type": "code",
   "execution_count": 2,
   "metadata": {},
   "outputs": [],
   "source": [
    "class Module(object):\n",
    "    def forward(self, *input): \n",
    "        raise NotImplementedError\n",
    "    def backward(self, *gradwrtoutput): \n",
    "        raise NotImplementedError\n",
    "    def param(self): \n",
    "        return []"
   ]
  },
  {
   "cell_type": "code",
   "execution_count": 3,
   "metadata": {},
   "outputs": [],
   "source": [
    "epsilon = 1e-6"
   ]
  },
  {
   "cell_type": "code",
   "execution_count": 45,
   "metadata": {},
   "outputs": [],
   "source": [
    "class Linear (Module):\n",
    "    def __init__(self, in_features, out_features):\n",
    "        super(Module, self).__init__()\n",
    "        self.in_features = in_features\n",
    "        self.out_features = out_features\n",
    "        self.w = FloatTensor(in_features, out_features).normal_(0, epsilon)\n",
    "        self.b = FloatTensor(in_features, 1).normal_(0, epsilon) #TODO maybe put some specific parameters for init, \n",
    "                                                            #try xavier\n",
    "        self.dl_dw = FloatTensor(self.w.size())\n",
    "        self.dl_db = FloatTensor(self.b.size())  \n",
    "    def forward(self, x_in):\n",
    "        x_out = x_in.mm(self.w.t())+self.b.t()\n",
    "        self.x_in = x_in\n",
    "        return x_out\n",
    "    def zero_grad(self): \n",
    "        self.dl_dw.zero_()\n",
    "        self.dl_db.zero_()\n",
    "    def backward(self, dl_dx_out): \n",
    "        dl_dw = 1/self.dl_dw.shape[0]*dl_dx_out.t().mm(self.x_in)\n",
    "        dl_db = 1/self.dl_db.shape[0]*dl_dx_out.sum(0).view(-1,1)\n",
    "        dl_dx_in = dl_dx_out.mm(self.w)\n",
    "        self.dl_dw = dl_dw\n",
    "        self.dl_db= dl_db\n",
    "        return dl_dx_in\n",
    "    def param(self): \n",
    "        return [(self.w, self.dl_dw), (self.b, self.dl_db)]"
   ]
  },
  {
   "cell_type": "code",
   "execution_count": 46,
   "metadata": {},
   "outputs": [],
   "source": [
    "model = Linear(3, 5)"
   ]
  },
  {
   "cell_type": "code",
   "execution_count": 47,
   "metadata": {},
   "outputs": [
    {
     "data": {
      "text/plain": [
       "[(\n",
       "  1.00000e-06 *\n",
       "    0.9213 -0.9813  0.5165 -0.8032  1.2092\n",
       "    0.5633  0.8725 -0.0012 -0.6860 -0.5120\n",
       "   -0.9405 -0.1476  0.1578 -0.4797 -0.8747\n",
       "  [torch.FloatTensor of size 3x5], \n",
       "   0.0618  0.5465  1.0315 -1.2814  1.6803\n",
       "  -0.4567 -0.0242  1.3338 -0.4402 -1.6675\n",
       "  -0.2164 -1.5352 -2.6399 -1.5467  1.0349\n",
       "  [torch.FloatTensor of size 3x5]), (\n",
       "  1.00000e-06 *\n",
       "   -1.8200\n",
       "   -0.0613\n",
       "   -0.6420\n",
       "  [torch.FloatTensor of size 3x1], \n",
       "   1.0259\n",
       "   0.2699\n",
       "  -0.4375\n",
       "  [torch.FloatTensor of size 3x1])]"
      ]
     },
     "execution_count": 47,
     "metadata": {},
     "output_type": "execute_result"
    }
   ],
   "source": [
    "x_out = model.forward(FloatTensor(10, 5).normal_())\n",
    "model.backward(FloatTensor(10, 3).normal_())\n",
    "model.param()"
   ]
  },
  {
   "cell_type": "code",
   "execution_count": null,
   "metadata": {},
   "outputs": [],
   "source": []
  },
  {
   "cell_type": "code",
   "execution_count": null,
   "metadata": {},
   "outputs": [],
   "source": []
  },
  {
   "cell_type": "code",
   "execution_count": null,
   "metadata": {},
   "outputs": [],
   "source": []
  }
 ],
 "metadata": {
  "kernelspec": {
   "display_name": "Python 3",
   "language": "python",
   "name": "python3"
  },
  "language_info": {
   "codemirror_mode": {
    "name": "ipython",
    "version": 3
   },
   "file_extension": ".py",
   "mimetype": "text/x-python",
   "name": "python",
   "nbconvert_exporter": "python",
   "pygments_lexer": "ipython3",
   "version": "3.6.2"
  }
 },
 "nbformat": 4,
 "nbformat_minor": 2
}
