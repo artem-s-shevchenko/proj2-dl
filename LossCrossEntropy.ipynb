{
 "cells": [
  {
   "cell_type": "code",
   "execution_count": 1,
   "metadata": {},
   "outputs": [],
   "source": [
    "from torch import FloatTensor\n",
    "from torch import LongTensor"
   ]
  },
  {
   "cell_type": "code",
   "execution_count": 2,
   "metadata": {},
   "outputs": [],
   "source": [
    "class Module(object):\n",
    "    def forward(self, *input): \n",
    "        raise NotImplementedError\n",
    "    def backward(self, *gradwrtoutput): \n",
    "        raise NotImplementedError\n",
    "    def param(self): \n",
    "        return []"
   ]
  },
  {
   "cell_type": "code",
   "execution_count": 3,
   "metadata": {},
   "outputs": [],
   "source": [
    "class LossCrossEntropy(Module):\n",
    "    def forward(self, x_in, target): \n",
    "        self.last_input = x_in\n",
    "        self.last_target = target\n",
    "        temp1 = x_in.gather(1, target.view(-1,1)).exp().squeeze()\n",
    "        temp2 = x_in.exp().sum(1)\n",
    "        return (-1.0/x_in.size()[0])*((temp1/temp2).log().sum())\n",
    "    def backward(self):\n",
    "        temp1 = self.last_input.exp().sum(1).view(-1,1)\n",
    "        temp2 = -1*self.last_input.exp()/temp1\n",
    "        j = LongTensor(list(range(self.last_input.size(0))))\n",
    "        temp2[j, self.last_target] = temp2[j, self.last_target] + 1\n",
    "        return (-1.0/self.last_input.size()[0])*temp2"
   ]
  },
  {
   "cell_type": "code",
   "execution_count": 4,
   "metadata": {},
   "outputs": [],
   "source": [
    "from torch.autograd import Variable\n",
    "a = FloatTensor([[1, 9, 6], [4, 5, 3]])\n",
    "b = LongTensor([1, 2])\n",
    "a_var = Variable(a, requires_grad=True)\n",
    "b_var = Variable(b)"
   ]
  },
  {
   "cell_type": "code",
   "execution_count": 5,
   "metadata": {},
   "outputs": [],
   "source": [
    "from torch import nn\n",
    "test1 = nn.CrossEntropyLoss()\n",
    "test2 = LossCrossEntropy()"
   ]
  },
  {
   "cell_type": "code",
   "execution_count": 6,
   "metadata": {},
   "outputs": [
    {
     "name": "stdout",
     "output_type": "stream",
     "text": [
      "1.228256344795227\n",
      "1.2282563876360655\n"
     ]
    }
   ],
   "source": [
    "res = test1(a_var, b_var)\n",
    "res2 = test2.forward(a,b)\n",
    "print(res.data[0])\n",
    "print(res2)"
   ]
  },
  {
   "cell_type": "code",
   "execution_count": 7,
   "metadata": {},
   "outputs": [
    {
     "data": {
      "text/plain": [
       "\n",
       " 0.0002 -0.0239  0.0237\n",
       " 0.1224  0.3326 -0.4550\n",
       "[torch.FloatTensor of size 2x3]"
      ]
     },
     "execution_count": 7,
     "metadata": {},
     "output_type": "execute_result"
    }
   ],
   "source": [
    "res.backward()\n",
    "a_var.grad.data"
   ]
  },
  {
   "cell_type": "code",
   "execution_count": 8,
   "metadata": {},
   "outputs": [
    {
     "data": {
      "text/plain": [
       "\n",
       " 0.0002 -0.0239  0.0237\n",
       " 0.1224  0.3326 -0.4550\n",
       "[torch.FloatTensor of size 2x3]"
      ]
     },
     "execution_count": 8,
     "metadata": {},
     "output_type": "execute_result"
    }
   ],
   "source": [
    "test2.backward()"
   ]
  },
  {
   "cell_type": "code",
   "execution_count": null,
   "metadata": {},
   "outputs": [],
   "source": []
  }
 ],
 "metadata": {
  "kernelspec": {
   "display_name": "Python 3",
   "language": "python",
   "name": "python3"
  },
  "language_info": {
   "codemirror_mode": {
    "name": "ipython",
    "version": 3
   },
   "file_extension": ".py",
   "mimetype": "text/x-python",
   "name": "python",
   "nbconvert_exporter": "python",
   "pygments_lexer": "ipython3",
   "version": "3.6.2"
  }
 },
 "nbformat": 4,
 "nbformat_minor": 2
}
