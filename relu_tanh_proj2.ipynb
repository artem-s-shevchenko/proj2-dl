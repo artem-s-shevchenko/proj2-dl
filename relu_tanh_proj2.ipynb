{
 "cells": [
  {
   "cell_type": "code",
   "execution_count": 1,
   "metadata": {},
   "outputs": [],
   "source": [
    "from torch import FloatTensor\n",
    "from torch import LongTensor"
   ]
  },
  {
   "cell_type": "code",
   "execution_count": 2,
   "metadata": {},
   "outputs": [],
   "source": [
    "class Module(object):\n",
    "    def forward(self, *input): \n",
    "        raise NotImplementedError\n",
    "    def backward(self, *gradwrtoutput): \n",
    "        raise NotImplementedError\n",
    "    def param(self): \n",
    "        return []"
   ]
  },
  {
   "cell_type": "code",
   "execution_count": 3,
   "metadata": {},
   "outputs": [],
   "source": [
    "class ReLU(Module):\n",
    "    def forward(self, x_in): \n",
    "        self.last_input = x_in\n",
    "        temp = x_in.clone()\n",
    "        temp[x_in <= 0] = 0\n",
    "        return temp\n",
    "    def backward(self, dl_dx_out):\n",
    "        temp = dl_dx_out.clone()\n",
    "        temp[self.last_input <= 0] = 0\n",
    "        return temp"
   ]
  },
  {
   "cell_type": "code",
   "execution_count": 4,
   "metadata": {},
   "outputs": [],
   "source": [
    "class Tanh(Module):\n",
    "    def forward(self, x_in):\n",
    "        self.last_input = x_in\n",
    "        return x_in.tanh()\n",
    "    def backward(self, dl_dx_out): \n",
    "        return (1-self.last_input.tanh().pow(2))*dl_dx_out"
   ]
  },
  {
   "cell_type": "code",
   "execution_count": 5,
   "metadata": {},
   "outputs": [],
   "source": [
    "r = ReLU()\n",
    "t = Tanh()"
   ]
  },
  {
   "cell_type": "code",
   "execution_count": 6,
   "metadata": {},
   "outputs": [],
   "source": [
    "a = FloatTensor(5, 5).normal_()"
   ]
  },
  {
   "cell_type": "code",
   "execution_count": 7,
   "metadata": {},
   "outputs": [
    {
     "data": {
      "text/plain": [
       "\n",
       " 0.6809 -0.8437  0.2146 -1.1827 -1.3822\n",
       " 0.6488 -0.1119 -0.0463  0.1995  0.7238\n",
       " 0.7883  0.4315  1.2652  1.3216  2.5182\n",
       "-0.1535  2.4653 -1.0551  1.1730  2.9990\n",
       " 1.6572 -1.5021  0.0351 -0.3793  0.9590\n",
       "[torch.FloatTensor of size 5x5]"
      ]
     },
     "execution_count": 7,
     "metadata": {},
     "output_type": "execute_result"
    }
   ],
   "source": [
    "a"
   ]
  },
  {
   "cell_type": "code",
   "execution_count": 8,
   "metadata": {},
   "outputs": [
    {
     "data": {
      "text/plain": [
       "\n",
       " 0.6809  0.0000  0.2146  0.0000  0.0000\n",
       " 0.6488  0.0000  0.0000  0.1995  0.7238\n",
       " 0.7883  0.4315  1.2652  1.3216  2.5182\n",
       " 0.0000  2.4653  0.0000  1.1730  2.9990\n",
       " 1.6572  0.0000  0.0351  0.0000  0.9590\n",
       "[torch.FloatTensor of size 5x5]"
      ]
     },
     "execution_count": 8,
     "metadata": {},
     "output_type": "execute_result"
    }
   ],
   "source": [
    "r.forward(a)"
   ]
  },
  {
   "cell_type": "code",
   "execution_count": 9,
   "metadata": {},
   "outputs": [
    {
     "data": {
      "text/plain": [
       "\n",
       " 0.5921 -0.6878  0.2114 -0.8283 -0.8814\n",
       " 0.5708 -0.1115 -0.0462  0.1969  0.6192\n",
       " 0.6575  0.4066  0.8525  0.8672  0.9871\n",
       "-0.1523  0.9857 -0.7838  0.8252  0.9950\n",
       " 0.9298 -0.9055  0.0351 -0.3621  0.7438\n",
       "[torch.FloatTensor of size 5x5]"
      ]
     },
     "execution_count": 9,
     "metadata": {},
     "output_type": "execute_result"
    }
   ],
   "source": [
    "t.forward(a)"
   ]
  },
  {
   "cell_type": "code",
   "execution_count": 10,
   "metadata": {},
   "outputs": [],
   "source": [
    "b = FloatTensor(5, 5).normal_()"
   ]
  },
  {
   "cell_type": "code",
   "execution_count": 11,
   "metadata": {},
   "outputs": [
    {
     "data": {
      "text/plain": [
       "\n",
       "-0.7778  0.0000  0.3321  0.0000  0.0000\n",
       " 0.6567  0.0000  0.0000 -0.4601  0.2656\n",
       "-0.1925  0.6333  1.5911 -0.4720  0.7865\n",
       " 0.0000 -0.4076  0.0000 -0.3259  2.1576\n",
       " 1.4266  0.0000  0.9983  0.0000  0.0969\n",
       "[torch.FloatTensor of size 5x5]"
      ]
     },
     "execution_count": 11,
     "metadata": {},
     "output_type": "execute_result"
    }
   ],
   "source": [
    "r.backward(b)"
   ]
  },
  {
   "cell_type": "code",
   "execution_count": 12,
   "metadata": {},
   "outputs": [
    {
     "data": {
      "text/plain": [
       "\n",
       "-0.5051 -0.1214  0.3173  0.3091  0.1464\n",
       " 0.4427  0.3757  1.1846 -0.4422  0.1637\n",
       "-0.1093  0.5286  0.4348 -0.1170  0.0202\n",
       " 0.1624 -0.0116 -0.1372 -0.1040  0.0213\n",
       " 0.1932 -0.2804  0.9971  0.7108  0.0433\n",
       "[torch.FloatTensor of size 5x5]"
      ]
     },
     "execution_count": 12,
     "metadata": {},
     "output_type": "execute_result"
    }
   ],
   "source": [
    "t.backward(b)"
   ]
  },
  {
   "cell_type": "code",
   "execution_count": null,
   "metadata": {},
   "outputs": [],
   "source": []
  }
 ],
 "metadata": {
  "kernelspec": {
   "display_name": "Python 3",
   "language": "python",
   "name": "python3"
  },
  "language_info": {
   "codemirror_mode": {
    "name": "ipython",
    "version": 3
   },
   "file_extension": ".py",
   "mimetype": "text/x-python",
   "name": "python",
   "nbconvert_exporter": "python",
   "pygments_lexer": "ipython3",
   "version": "3.6.2"
  }
 },
 "nbformat": 4,
 "nbformat_minor": 2
}
