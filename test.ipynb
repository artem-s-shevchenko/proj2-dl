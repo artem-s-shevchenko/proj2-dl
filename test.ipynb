{
 "cells": [
  {
   "cell_type": "code",
   "execution_count": 1,
   "metadata": {},
   "outputs": [],
   "source": [
    "from Linear import *\n",
    "from ReLU import *\n",
    "from LossMSE import *\n",
    "from Tanh import *\n",
    "from Sequential import *\n",
    "\n",
    "from torch import FloatTensor\n",
    "from torch import LongTensor \n",
    "import math"
   ]
  },
  {
   "cell_type": "code",
   "execution_count": 2,
   "metadata": {},
   "outputs": [],
   "source": [
    "def convert_to_one_hot_labels(target):\n",
    "    tmp = FloatTensor(target.size(0), target.max() + 1).fill_(-1)\n",
    "    tmp.scatter_(1, target.view(-1, 1), 1.0)\n",
    "    return tmp"
   ]
  },
  {
   "cell_type": "code",
   "execution_count": 3,
   "metadata": {},
   "outputs": [
    {
     "name": "stdout",
     "output_type": "stream",
     "text": [
      "506\n",
      "495\n"
     ]
    }
   ],
   "source": [
    "#data generation\n",
    "def generate_disc_set(nb):\n",
    "    uniform_input = FloatTensor(nb, 2).uniform_(0, 1)\n",
    "    target = uniform_input.sub(0.5).pow(2).sum(1).sub(1 /(2*math.pi)).sign().mul(-1).add(1).div(2).long()\n",
    "    print(target.sum())\n",
    "    return uniform_input, convert_to_one_hot_labels(target)\n",
    "\n",
    "train_input, train_target = generate_disc_set(1000)\n",
    "test_input, test_target = generate_disc_set(1000)\n",
    "mini_batch_size = 100"
   ]
  },
  {
   "cell_type": "code",
   "execution_count": 4,
   "metadata": {},
   "outputs": [
    {
     "data": {
      "text/plain": [
       "\n",
       " 1.2482  0.1433\n",
       " 0.5294 -0.8195\n",
       "-1.1946 -0.2279\n",
       "       ⋮        \n",
       " 1.4008  0.6319\n",
       "-1.5091  1.6382\n",
       "-0.2745  0.1937\n",
       "[torch.FloatTensor of size 1000x2]"
      ]
     },
     "execution_count": 4,
     "metadata": {},
     "output_type": "execute_result"
    }
   ],
   "source": [
    "#data noramlization\n",
    "mean, std = train_input.mean(0), train_input.std(0)\n",
    "\n",
    "train_input.sub_(mean).div_(std)\n",
    "test_input.sub_(mean).div_(std)"
   ]
  },
  {
   "cell_type": "code",
   "execution_count": 5,
   "metadata": {},
   "outputs": [],
   "source": [
    "#create model\n",
    "model = Sequential(\n",
    "        Linear(2, 25), \n",
    "        Tanh(),\n",
    "        Linear(25, 25), \n",
    "        Tanh(),\n",
    "        Linear(25, 25), \n",
    "        Tanh(),\n",
    "        Linear(25, 2)\n",
    ")"
   ]
  },
  {
   "cell_type": "code",
   "execution_count": 6,
   "metadata": {},
   "outputs": [],
   "source": [
    "from torch import nn\n",
    "from torch.autograd import Variable\n",
    "from torch import optim\n",
    "import torch"
   ]
  },
  {
   "cell_type": "code",
   "execution_count": 7,
   "metadata": {},
   "outputs": [],
   "source": [
    "model_torch = nn.Sequential(\n",
    "        nn.Linear(2, 25), \n",
    "        nn.Tanh(),\n",
    "        nn.Linear(25, 25), \n",
    "        nn.Tanh(),\n",
    "        nn.Linear(25, 25), \n",
    "        nn.Tanh(),\n",
    "        nn.Linear(25, 2)\n",
    ")"
   ]
  },
  {
   "cell_type": "code",
   "execution_count": 8,
   "metadata": {},
   "outputs": [],
   "source": [
    "def train_model_torch(model, train_input, train_target):\n",
    "    criterion = nn.MSELoss()\n",
    "    optimizer = optim.SGD(model.parameters(), lr = 1e-1) \n",
    "    nb_epochs = 250\n",
    "\n",
    "    for e in range(0, nb_epochs):\n",
    "        for b in range(0, train_input.size(0), mini_batch_size):\n",
    "            output = model(train_input.narrow(0, b, mini_batch_size))\n",
    "            loss = criterion(output, train_target.narrow(0, b, mini_batch_size))\n",
    "            model.zero_grad()\n",
    "            loss.backward()\n",
    "            optimizer.step()\n",
    "train_model_torch(model_torch, Variable(train_input), Variable(train_target))"
   ]
  },
  {
   "cell_type": "code",
   "execution_count": 9,
   "metadata": {},
   "outputs": [
    {
     "name": "stdout",
     "output_type": "stream",
     "text": [
      "train_error 0.70% test_error 1.50%\n"
     ]
    }
   ],
   "source": [
    "def compute_nb_errors_torch(model, data_input, data_target):\n",
    "\n",
    "    nb_data_errors = 0\n",
    "\n",
    "    for b in range(0, data_input.size(0), mini_batch_size):\n",
    "        output = model(data_input.narrow(0, b, mini_batch_size))\n",
    "        _, predicted_classes = torch.max(output.data, 1)\n",
    "        for k in range(0, mini_batch_size):\n",
    "            if data_target.data[b + k, predicted_classes[k]] < 0:\n",
    "                nb_data_errors = nb_data_errors + 1\n",
    "\n",
    "    return nb_data_errors\n",
    "print('train_error {:.02f}% test_error {:.02f}%'.format(\n",
    "            compute_nb_errors_torch(model_torch, Variable(train_input), Variable(train_target)) / train_input.size(0) * 100,\n",
    "            compute_nb_errors_torch(model_torch, Variable(test_input), Variable(test_target)) / test_input.size(0) * 100\n",
    "        )\n",
    "        )"
   ]
  },
  {
   "cell_type": "code",
   "execution_count": 10,
   "metadata": {},
   "outputs": [],
   "source": [
    "#train network\n",
    "def train_model(model, train_input, train_target):\n",
    "    criterion = LossMSE()\n",
    "    nb_epochs = 250\n",
    "    lr = 1e-1\n",
    "\n",
    "    for e in range(0, nb_epochs):\n",
    "        for b in range(0, train_input.size(0), mini_batch_size):\n",
    "            output = model.forward(train_input.narrow(0, b, mini_batch_size))\n",
    "            loss = criterion.forward(output, train_target.narrow(0, b, mini_batch_size))\n",
    "            #print(loss)\n",
    "            dl_din = criterion.backward()\n",
    "            model.backward(dl_din)\n",
    "            for p in model.param():\n",
    "                p[0].sub_(lr*p[1])\n",
    "                #if b<10: print(p[1])\n",
    "train_model(model, train_input, train_target)"
   ]
  },
  {
   "cell_type": "code",
   "execution_count": 11,
   "metadata": {},
   "outputs": [],
   "source": [
    "def compute_nb_errors(model, data_input, data_target):\n",
    "\n",
    "    nb_data_errors = 0\n",
    "\n",
    "    for b in range(0, data_input.size(0), mini_batch_size):\n",
    "        output = model.forward(data_input.narrow(0, b, mini_batch_size))\n",
    "        _, predicted_classes = output.max(1)\n",
    "        for k in range(0, mini_batch_size):\n",
    "            #print(data_target.size())\n",
    "            #print(type(predicted_classes.size())\n",
    "            if data_target[b + k, predicted_classes[k]] < 0:\n",
    "                nb_data_errors = nb_data_errors + 1\n",
    "\n",
    "    return nb_data_errors"
   ]
  },
  {
   "cell_type": "code",
   "execution_count": 12,
   "metadata": {},
   "outputs": [
    {
     "name": "stdout",
     "output_type": "stream",
     "text": [
      "train_error 0.50% test_error 1.20%\n"
     ]
    }
   ],
   "source": [
    "print('train_error {:.02f}% test_error {:.02f}%'.format(\n",
    "            compute_nb_errors(model, train_input, train_target) / train_input.size(0) * 100,\n",
    "            compute_nb_errors(model, test_input, test_target) / test_input.size(0) * 100\n",
    "        )\n",
    "        )"
   ]
  },
  {
   "cell_type": "code",
   "execution_count": null,
   "metadata": {},
   "outputs": [],
   "source": []
  },
  {
   "cell_type": "code",
   "execution_count": null,
   "metadata": {},
   "outputs": [],
   "source": []
  },
  {
   "cell_type": "code",
   "execution_count": null,
   "metadata": {},
   "outputs": [],
   "source": []
  }
 ],
 "metadata": {
  "kernelspec": {
   "display_name": "Python 3",
   "language": "python",
   "name": "python3"
  },
  "language_info": {
   "codemirror_mode": {
    "name": "ipython",
    "version": 3
   },
   "file_extension": ".py",
   "mimetype": "text/x-python",
   "name": "python",
   "nbconvert_exporter": "python",
   "pygments_lexer": "ipython3",
   "version": "3.6.2"
  }
 },
 "nbformat": 4,
 "nbformat_minor": 2
}
